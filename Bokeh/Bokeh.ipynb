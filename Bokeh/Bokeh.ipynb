{
 "cells": [
  {
   "attachments": {},
   "cell_type": "markdown",
   "metadata": {},
   "source": [
    "# Bokeh\n",
    "\n",
    "link documentação:  https://docs.bokeh.org/en/latest/docs/first_steps.html\n",
    "\n"
   ]
  },
  {
   "cell_type": "code",
   "execution_count": 14,
   "metadata": {},
   "outputs": [
    {
     "name": "stdout",
     "output_type": "stream",
     "text": [
      "Requirement already satisfied: bokeh in c:\\users\\deivi\\appdata\\local\\programs\\python\\python310\\lib\\site-packages (2.4.3)\n",
      "Requirement already satisfied: tornado>=5.1 in c:\\users\\deivi\\appdata\\local\\programs\\python\\python310\\lib\\site-packages (from bokeh) (6.2)\n",
      "Requirement already satisfied: Jinja2>=2.9 in c:\\users\\deivi\\appdata\\local\\programs\\python\\python310\\lib\\site-packages (from bokeh) (3.1.2)\n",
      "Requirement already satisfied: typing-extensions>=3.10.0 in c:\\users\\deivi\\appdata\\local\\programs\\python\\python310\\lib\\site-packages (from bokeh) (4.3.0)\n",
      "Requirement already satisfied: packaging>=16.8 in c:\\users\\deivi\\appdata\\local\\programs\\python\\python310\\lib\\site-packages (from bokeh) (21.3)\n",
      "Requirement already satisfied: PyYAML>=3.10 in c:\\users\\deivi\\appdata\\local\\programs\\python\\python310\\lib\\site-packages (from bokeh) (6.0)\n",
      "Requirement already satisfied: pillow>=7.1.0 in c:\\users\\deivi\\appdata\\local\\programs\\python\\python310\\lib\\site-packages (from bokeh) (9.2.0)\n",
      "Requirement already satisfied: numpy>=1.11.3 in c:\\users\\deivi\\appdata\\local\\programs\\python\\python310\\lib\\site-packages (from bokeh) (1.23.2)\n",
      "Requirement already satisfied: MarkupSafe>=2.0 in c:\\users\\deivi\\appdata\\local\\programs\\python\\python310\\lib\\site-packages (from Jinja2>=2.9->bokeh) (2.1.1)\n",
      "Requirement already satisfied: pyparsing!=3.0.5,>=2.0.2 in c:\\users\\deivi\\appdata\\local\\programs\\python\\python310\\lib\\site-packages (from packaging>=16.8->bokeh) (3.0.9)\n"
     ]
    }
   ],
   "source": [
    "!pip install bokeh"
   ]
  },
  {
   "cell_type": "code",
   "execution_count": 15,
   "metadata": {},
   "outputs": [
    {
     "data": {
      "text/html": [
       "\n",
       "  <div class=\"bk-root\" id=\"3fdfe865-44fd-40c9-9ec7-8d45eaf36552\" data-root-id=\"2047\"></div>\n"
      ]
     },
     "metadata": {},
     "output_type": "display_data"
    },
    {
     "data": {
      "application/javascript": "(function(root) {\n  function embed_document(root) {\n  const docs_json = {\"33816860-2b19-4551-be1c-90da1e66b99c\":{\"defs\":[],\"roots\":{\"references\":[{\"attributes\":{\"below\":[{\"id\":\"2056\"}],\"center\":[{\"id\":\"2059\"},{\"id\":\"2063\"}],\"left\":[{\"id\":\"2060\"}],\"renderers\":[{\"id\":\"2082\"}],\"title\":{\"id\":\"2126\"},\"toolbar\":{\"id\":\"2071\"},\"x_range\":{\"id\":\"2048\"},\"x_scale\":{\"id\":\"2052\"},\"y_range\":{\"id\":\"2050\"},\"y_scale\":{\"id\":\"2054\"}},\"id\":\"2047\",\"subtype\":\"Figure\",\"type\":\"Plot\"},{\"attributes\":{},\"id\":\"2064\",\"type\":\"PanTool\"},{\"attributes\":{},\"id\":\"2134\",\"type\":\"UnionRenderers\"},{\"attributes\":{},\"id\":\"2050\",\"type\":\"DataRange1d\"},{\"attributes\":{},\"id\":\"2068\",\"type\":\"ResetTool\"},{\"attributes\":{\"coordinates\":null,\"data_source\":{\"id\":\"2078\"},\"glyph\":{\"id\":\"2079\"},\"group\":null,\"hover_glyph\":null,\"muted_glyph\":{\"id\":\"2081\"},\"nonselection_glyph\":{\"id\":\"2080\"},\"view\":{\"id\":\"2083\"}},\"id\":\"2082\",\"type\":\"GlyphRenderer\"},{\"attributes\":{\"coordinates\":null,\"group\":null},\"id\":\"2126\",\"type\":\"Title\"},{\"attributes\":{\"data\":{\"x\":[1,2,3],\"y\":[4,6,2]},\"selected\":{\"id\":\"2135\"},\"selection_policy\":{\"id\":\"2134\"}},\"id\":\"2078\",\"type\":\"ColumnDataSource\"},{\"attributes\":{},\"id\":\"2135\",\"type\":\"Selection\"},{\"attributes\":{},\"id\":\"2057\",\"type\":\"BasicTicker\"},{\"attributes\":{\"coordinates\":null,\"formatter\":{\"id\":\"2129\"},\"group\":null,\"major_label_policy\":{\"id\":\"2130\"},\"ticker\":{\"id\":\"2061\"}},\"id\":\"2060\",\"type\":\"LinearAxis\"},{\"attributes\":{\"overlay\":{\"id\":\"2070\"}},\"id\":\"2066\",\"type\":\"BoxZoomTool\"},{\"attributes\":{\"line_alpha\":0.2,\"line_color\":\"#1f77b4\",\"x\":{\"field\":\"x\"},\"y\":{\"field\":\"y\"}},\"id\":\"2081\",\"type\":\"Line\"},{\"attributes\":{},\"id\":\"2067\",\"type\":\"SaveTool\"},{\"attributes\":{},\"id\":\"2054\",\"type\":\"LinearScale\"},{\"attributes\":{\"source\":{\"id\":\"2078\"}},\"id\":\"2083\",\"type\":\"CDSView\"},{\"attributes\":{},\"id\":\"2069\",\"type\":\"HelpTool\"},{\"attributes\":{\"coordinates\":null,\"formatter\":{\"id\":\"2132\"},\"group\":null,\"major_label_policy\":{\"id\":\"2133\"},\"ticker\":{\"id\":\"2057\"}},\"id\":\"2056\",\"type\":\"LinearAxis\"},{\"attributes\":{\"bottom_units\":\"screen\",\"coordinates\":null,\"fill_alpha\":0.5,\"fill_color\":\"lightgrey\",\"group\":null,\"left_units\":\"screen\",\"level\":\"overlay\",\"line_alpha\":1.0,\"line_color\":\"black\",\"line_dash\":[4,4],\"line_width\":2,\"right_units\":\"screen\",\"syncable\":false,\"top_units\":\"screen\"},\"id\":\"2070\",\"type\":\"BoxAnnotation\"},{\"attributes\":{},\"id\":\"2129\",\"type\":\"BasicTickFormatter\"},{\"attributes\":{},\"id\":\"2052\",\"type\":\"LinearScale\"},{\"attributes\":{},\"id\":\"2130\",\"type\":\"AllLabels\"},{\"attributes\":{\"tools\":[{\"id\":\"2064\"},{\"id\":\"2065\"},{\"id\":\"2066\"},{\"id\":\"2067\"},{\"id\":\"2068\"},{\"id\":\"2069\"}]},\"id\":\"2071\",\"type\":\"Toolbar\"},{\"attributes\":{},\"id\":\"2132\",\"type\":\"BasicTickFormatter\"},{\"attributes\":{},\"id\":\"2133\",\"type\":\"AllLabels\"},{\"attributes\":{\"axis\":{\"id\":\"2056\"},\"coordinates\":null,\"group\":null,\"ticker\":null},\"id\":\"2059\",\"type\":\"Grid\"},{\"attributes\":{\"axis\":{\"id\":\"2060\"},\"coordinates\":null,\"dimension\":1,\"group\":null,\"ticker\":null},\"id\":\"2063\",\"type\":\"Grid\"},{\"attributes\":{},\"id\":\"2065\",\"type\":\"WheelZoomTool\"},{\"attributes\":{\"line_alpha\":0.1,\"line_color\":\"#1f77b4\",\"x\":{\"field\":\"x\"},\"y\":{\"field\":\"y\"}},\"id\":\"2080\",\"type\":\"Line\"},{\"attributes\":{\"line_color\":\"#1f77b4\",\"x\":{\"field\":\"x\"},\"y\":{\"field\":\"y\"}},\"id\":\"2079\",\"type\":\"Line\"},{\"attributes\":{},\"id\":\"2048\",\"type\":\"DataRange1d\"},{\"attributes\":{},\"id\":\"2061\",\"type\":\"BasicTicker\"}],\"root_ids\":[\"2047\"]},\"title\":\"Bokeh Application\",\"version\":\"2.4.3\"}};\n  const render_items = [{\"docid\":\"33816860-2b19-4551-be1c-90da1e66b99c\",\"root_ids\":[\"2047\"],\"roots\":{\"2047\":\"3fdfe865-44fd-40c9-9ec7-8d45eaf36552\"}}];\n  root.Bokeh.embed.embed_items_notebook(docs_json, render_items);\n  }\n  if (root.Bokeh !== undefined) {\n    embed_document(root);\n  } else {\n    let attempts = 0;\n    const timer = setInterval(function(root) {\n      if (root.Bokeh !== undefined) {\n        clearInterval(timer);\n        embed_document(root);\n      } else {\n        attempts++;\n        if (attempts > 100) {\n          clearInterval(timer);\n          console.log(\"Bokeh: ERROR: Unable to run BokehJS code because BokehJS library is missing\");\n        }\n      }\n    }, 10, root)\n  }\n})(window);",
      "application/vnd.bokehjs_exec.v0+json": ""
     },
     "metadata": {
      "application/vnd.bokehjs_exec.v0+json": {
       "id": "2047"
      }
     },
     "output_type": "display_data"
    }
   ],
   "source": [
    "# Importando o módulo Bokeh\n",
    "\n",
    "from bokeh.plotting import figure, output_file, show\n",
    "\n",
    "output_file(\"figura.html\")\n",
    "\n",
    "p = figure()\n",
    "p.line(x=[1, 2, 3], y=[4,6,2])\n",
    "\n",
    "show(p)\n"
   ]
  },
  {
   "cell_type": "code",
   "execution_count": 16,
   "metadata": {},
   "outputs": [
    {
     "data": {
      "text/html": [
       "\n",
       "  <div class=\"bk-root\" id=\"024474b3-4e95-4cb7-a168-991b54cb41cd\" data-root-id=\"2347\"></div>\n"
      ]
     },
     "metadata": {},
     "output_type": "display_data"
    },
    {
     "data": {
      "application/javascript": "(function(root) {\n  function embed_document(root) {\n  const docs_json = {\"f172bcef-2d9f-4720-9750-2bf4a79e6276\":{\"defs\":[],\"roots\":{\"references\":[{\"attributes\":{\"below\":[{\"id\":\"2356\"}],\"center\":[{\"id\":\"2359\"},{\"id\":\"2363\"}],\"height\":300,\"left\":[{\"id\":\"2360\"}],\"renderers\":[{\"id\":\"2375\"}],\"title\":{\"id\":\"2430\"},\"toolbar\":{\"id\":\"2367\"},\"width\":300,\"x_range\":{\"id\":\"2348\"},\"x_scale\":{\"id\":\"2352\"},\"y_range\":{\"id\":\"2350\"},\"y_scale\":{\"id\":\"2354\"}},\"id\":\"2347\",\"subtype\":\"Figure\",\"type\":\"Plot\"},{\"attributes\":{\"axis\":{\"id\":\"2356\"},\"coordinates\":null,\"group\":null,\"ticker\":null},\"id\":\"2359\",\"type\":\"Grid\"},{\"attributes\":{\"fill_alpha\":{\"value\":0.5},\"fill_color\":{\"value\":\"#1f77b4\"},\"hatch_alpha\":{\"value\":0.5},\"line_alpha\":{\"value\":0.5},\"line_color\":{\"value\":\"#1f77b4\"},\"radius\":{\"value\":0.3},\"x\":{\"field\":\"x\"},\"y\":{\"field\":\"y\"}},\"id\":\"2372\",\"type\":\"Circle\"},{\"attributes\":{},\"id\":\"2354\",\"type\":\"LinearScale\"},{\"attributes\":{},\"id\":\"2350\",\"type\":\"DataRange1d\"},{\"attributes\":{\"axis\":{\"id\":\"2360\"},\"coordinates\":null,\"dimension\":1,\"group\":null,\"ticker\":null},\"id\":\"2363\",\"type\":\"Grid\"},{\"attributes\":{\"coordinates\":null,\"formatter\":{\"id\":\"2436\"},\"group\":null,\"major_label_policy\":{\"id\":\"2437\"},\"ticker\":{\"id\":\"2357\"}},\"id\":\"2356\",\"type\":\"LinearAxis\"},{\"attributes\":{},\"id\":\"2361\",\"type\":\"BasicTicker\"},{\"attributes\":{},\"id\":\"2352\",\"type\":\"LinearScale\"},{\"attributes\":{\"coordinates\":null,\"formatter\":{\"id\":\"2433\"},\"group\":null,\"major_label_policy\":{\"id\":\"2434\"},\"ticker\":{\"id\":\"2361\"}},\"id\":\"2360\",\"type\":\"LinearAxis\"},{\"attributes\":{\"source\":{\"id\":\"2371\"}},\"id\":\"2376\",\"type\":\"CDSView\"},{\"attributes\":{\"coordinates\":null,\"data_source\":{\"id\":\"2371\"},\"glyph\":{\"id\":\"2372\"},\"group\":null,\"hover_glyph\":null,\"muted_glyph\":{\"id\":\"2374\"},\"nonselection_glyph\":{\"id\":\"2373\"},\"view\":{\"id\":\"2376\"}},\"id\":\"2375\",\"type\":\"GlyphRenderer\"},{\"attributes\":{\"fill_alpha\":{\"value\":0.2},\"fill_color\":{\"value\":\"#1f77b4\"},\"hatch_alpha\":{\"value\":0.2},\"line_alpha\":{\"value\":0.2},\"line_color\":{\"value\":\"#1f77b4\"},\"radius\":{\"value\":0.3},\"x\":{\"field\":\"x\"},\"y\":{\"field\":\"y\"}},\"id\":\"2374\",\"type\":\"Circle\"},{\"attributes\":{\"tools\":[{\"id\":\"2364\"},{\"id\":\"2365\"},{\"id\":\"2366\"}]},\"id\":\"2367\",\"type\":\"Toolbar\"},{\"attributes\":{\"data\":{\"x\":[1,2.5,3,2],\"y\":[2,3,1,1.5]},\"selected\":{\"id\":\"2439\"},\"selection_policy\":{\"id\":\"2438\"}},\"id\":\"2371\",\"type\":\"ColumnDataSource\"},{\"attributes\":{},\"id\":\"2438\",\"type\":\"UnionRenderers\"},{\"attributes\":{},\"id\":\"2437\",\"type\":\"AllLabels\"},{\"attributes\":{},\"id\":\"2348\",\"type\":\"DataRange1d\"},{\"attributes\":{\"coordinates\":null,\"group\":null},\"id\":\"2430\",\"type\":\"Title\"},{\"attributes\":{},\"id\":\"2436\",\"type\":\"BasicTickFormatter\"},{\"attributes\":{},\"id\":\"2366\",\"type\":\"SaveTool\"},{\"attributes\":{},\"id\":\"2364\",\"type\":\"PanTool\"},{\"attributes\":{},\"id\":\"2365\",\"type\":\"ResetTool\"},{\"attributes\":{},\"id\":\"2434\",\"type\":\"AllLabels\"},{\"attributes\":{},\"id\":\"2433\",\"type\":\"BasicTickFormatter\"},{\"attributes\":{},\"id\":\"2439\",\"type\":\"Selection\"},{\"attributes\":{\"fill_alpha\":{\"value\":0.1},\"fill_color\":{\"value\":\"#1f77b4\"},\"hatch_alpha\":{\"value\":0.1},\"line_alpha\":{\"value\":0.1},\"line_color\":{\"value\":\"#1f77b4\"},\"radius\":{\"value\":0.3},\"x\":{\"field\":\"x\"},\"y\":{\"field\":\"y\"}},\"id\":\"2373\",\"type\":\"Circle\"},{\"attributes\":{},\"id\":\"2357\",\"type\":\"BasicTicker\"}],\"root_ids\":[\"2347\"]},\"title\":\"Bokeh Application\",\"version\":\"2.4.3\"}};\n  const render_items = [{\"docid\":\"f172bcef-2d9f-4720-9750-2bf4a79e6276\",\"root_ids\":[\"2347\"],\"roots\":{\"2347\":\"024474b3-4e95-4cb7-a168-991b54cb41cd\"}}];\n  root.Bokeh.embed.embed_items_notebook(docs_json, render_items);\n  }\n  if (root.Bokeh !== undefined) {\n    embed_document(root);\n  } else {\n    let attempts = 0;\n    const timer = setInterval(function(root) {\n      if (root.Bokeh !== undefined) {\n        clearInterval(timer);\n        embed_document(root);\n      } else {\n        attempts++;\n        if (attempts > 100) {\n          clearInterval(timer);\n          console.log(\"Bokeh: ERROR: Unable to run BokehJS code because BokehJS library is missing\");\n        }\n      }\n    }, 10, root)\n  }\n})(window);",
      "application/vnd.bokehjs_exec.v0+json": ""
     },
     "metadata": {
      "application/vnd.bokehjs_exec.v0+json": {
       "id": "2347"
      }
     },
     "output_type": "display_data"
    }
   ],
   "source": [
    "from bokeh.plotting import figure, output_file, show\n",
    "\n",
    "# criar objeto\n",
    "p = figure(width=300, height=300, tools=\"pan,reset,save\")\n",
    "\n",
    "# para adicionar o circulo\n",
    "p.circle([1, 2.5, 3, 2], [2, 3, 1, 1.5], radius=0.3, alpha=0.5)\n",
    "\n",
    "# saída do arquivo.\n",
    "output_file(\"figure2.html\")\n",
    "\n",
    "# display the figure\n",
    "show(p)"
   ]
  },
  {
   "cell_type": "code",
   "execution_count": 17,
   "metadata": {},
   "outputs": [
    {
     "data": {
      "text/html": [
       "\n",
       "  <div class=\"bk-root\" id=\"fa73b08f-c8fc-4db8-b799-86066248bdf5\" data-root-id=\"2631\"></div>\n"
      ]
     },
     "metadata": {},
     "output_type": "display_data"
    },
    {
     "data": {
      "application/javascript": "(function(root) {\n  function embed_document(root) {\n  const docs_json = {\"0cd77caf-9e3d-40bb-9772-b46cc1276d3b\":{\"defs\":[],\"roots\":{\"references\":[{\"attributes\":{\"below\":[{\"id\":\"2640\"}],\"center\":[{\"id\":\"2643\"},{\"id\":\"2647\"}],\"height\":400,\"left\":[{\"id\":\"2644\"}],\"renderers\":[{\"id\":\"2666\"}],\"title\":{\"id\":\"2731\"},\"toolbar\":{\"id\":\"2655\"},\"width\":400,\"x_range\":{\"id\":\"2632\"},\"x_scale\":{\"id\":\"2636\"},\"y_range\":{\"id\":\"2634\"},\"y_scale\":{\"id\":\"2638\"}},\"id\":\"2631\",\"subtype\":\"Figure\",\"type\":\"Plot\"},{\"attributes\":{},\"id\":\"2645\",\"type\":\"BasicTicker\"},{\"attributes\":{},\"id\":\"2652\",\"type\":\"ResetTool\"},{\"attributes\":{},\"id\":\"2735\",\"type\":\"AllLabels\"},{\"attributes\":{\"line_alpha\":0.1,\"line_color\":\"#1f77b4\",\"line_width\":2,\"x\":{\"field\":\"x\"},\"y\":{\"field\":\"y\"}},\"id\":\"2664\",\"type\":\"Line\"},{\"attributes\":{\"axis\":{\"id\":\"2644\"},\"coordinates\":null,\"dimension\":1,\"group\":null,\"ticker\":null},\"id\":\"2647\",\"type\":\"Grid\"},{\"attributes\":{},\"id\":\"2737\",\"type\":\"BasicTickFormatter\"},{\"attributes\":{\"tools\":[{\"id\":\"2648\"},{\"id\":\"2649\"},{\"id\":\"2650\"},{\"id\":\"2651\"},{\"id\":\"2652\"},{\"id\":\"2653\"}]},\"id\":\"2655\",\"type\":\"Toolbar\"},{\"attributes\":{},\"id\":\"2649\",\"type\":\"WheelZoomTool\"},{\"attributes\":{},\"id\":\"2738\",\"type\":\"AllLabels\"},{\"attributes\":{},\"id\":\"2648\",\"type\":\"PanTool\"},{\"attributes\":{},\"id\":\"2632\",\"type\":\"DataRange1d\"},{\"attributes\":{\"data\":{\"x\":[1,2,3,4,5],\"y\":[6,7,2,4,5]},\"selected\":{\"id\":\"2740\"},\"selection_policy\":{\"id\":\"2739\"}},\"id\":\"2662\",\"type\":\"ColumnDataSource\"},{\"attributes\":{\"coordinates\":null,\"formatter\":{\"id\":\"2737\"},\"group\":null,\"major_label_policy\":{\"id\":\"2738\"},\"ticker\":{\"id\":\"2641\"}},\"id\":\"2640\",\"type\":\"LinearAxis\"},{\"attributes\":{},\"id\":\"2641\",\"type\":\"BasicTicker\"},{\"attributes\":{\"axis\":{\"id\":\"2640\"},\"coordinates\":null,\"group\":null,\"ticker\":null},\"id\":\"2643\",\"type\":\"Grid\"},{\"attributes\":{},\"id\":\"2739\",\"type\":\"UnionRenderers\"},{\"attributes\":{},\"id\":\"2636\",\"type\":\"LinearScale\"},{\"attributes\":{},\"id\":\"2653\",\"type\":\"HelpTool\"},{\"attributes\":{},\"id\":\"2740\",\"type\":\"Selection\"},{\"attributes\":{\"coordinates\":null,\"formatter\":{\"id\":\"2734\"},\"group\":null,\"major_label_policy\":{\"id\":\"2735\"},\"ticker\":{\"id\":\"2645\"}},\"id\":\"2644\",\"type\":\"LinearAxis\"},{\"attributes\":{},\"id\":\"2638\",\"type\":\"LinearScale\"},{\"attributes\":{},\"id\":\"2634\",\"type\":\"DataRange1d\"},{\"attributes\":{\"source\":{\"id\":\"2662\"}},\"id\":\"2667\",\"type\":\"CDSView\"},{\"attributes\":{},\"id\":\"2734\",\"type\":\"BasicTickFormatter\"},{\"attributes\":{\"line_alpha\":0.2,\"line_color\":\"#1f77b4\",\"line_width\":2,\"x\":{\"field\":\"x\"},\"y\":{\"field\":\"y\"}},\"id\":\"2665\",\"type\":\"Line\"},{\"attributes\":{\"bottom_units\":\"screen\",\"coordinates\":null,\"fill_alpha\":0.5,\"fill_color\":\"lightgrey\",\"group\":null,\"left_units\":\"screen\",\"level\":\"overlay\",\"line_alpha\":1.0,\"line_color\":\"black\",\"line_dash\":[4,4],\"line_width\":2,\"right_units\":\"screen\",\"syncable\":false,\"top_units\":\"screen\"},\"id\":\"2654\",\"type\":\"BoxAnnotation\"},{\"attributes\":{\"overlay\":{\"id\":\"2654\"}},\"id\":\"2650\",\"type\":\"BoxZoomTool\"},{\"attributes\":{\"line_color\":\"#1f77b4\",\"line_width\":2,\"x\":{\"field\":\"x\"},\"y\":{\"field\":\"y\"}},\"id\":\"2663\",\"type\":\"Line\"},{\"attributes\":{\"coordinates\":null,\"data_source\":{\"id\":\"2662\"},\"glyph\":{\"id\":\"2663\"},\"group\":null,\"hover_glyph\":null,\"muted_glyph\":{\"id\":\"2665\"},\"nonselection_glyph\":{\"id\":\"2664\"},\"view\":{\"id\":\"2667\"}},\"id\":\"2666\",\"type\":\"GlyphRenderer\"},{\"attributes\":{\"coordinates\":null,\"group\":null},\"id\":\"2731\",\"type\":\"Title\"},{\"attributes\":{},\"id\":\"2651\",\"type\":\"SaveTool\"}],\"root_ids\":[\"2631\"]},\"title\":\"Bokeh Application\",\"version\":\"2.4.3\"}};\n  const render_items = [{\"docid\":\"0cd77caf-9e3d-40bb-9772-b46cc1276d3b\",\"root_ids\":[\"2631\"],\"roots\":{\"2631\":\"fa73b08f-c8fc-4db8-b799-86066248bdf5\"}}];\n  root.Bokeh.embed.embed_items_notebook(docs_json, render_items);\n  }\n  if (root.Bokeh !== undefined) {\n    embed_document(root);\n  } else {\n    let attempts = 0;\n    const timer = setInterval(function(root) {\n      if (root.Bokeh !== undefined) {\n        clearInterval(timer);\n        embed_document(root);\n      } else {\n        attempts++;\n        if (attempts > 100) {\n          clearInterval(timer);\n          console.log(\"Bokeh: ERROR: Unable to run BokehJS code because BokehJS library is missing\");\n        }\n      }\n    }, 10, root)\n  }\n})(window);",
      "application/vnd.bokehjs_exec.v0+json": ""
     },
     "metadata": {
      "application/vnd.bokehjs_exec.v0+json": {
       "id": "2631"
      }
     },
     "output_type": "display_data"
    }
   ],
   "source": [
    "from bokeh.plotting import figure, output_file, show\n",
    "\n",
    "output_file(\"figura3.html\")\n",
    "\n",
    "p = figure(width=400, height=400)\n",
    "\n",
    "# add a line renderer\n",
    "p.line([1, 2, 3, 4, 5], [6, 7, 2, 4, 5], line_width=2)\n",
    "\n",
    "show(p)"
   ]
  },
  {
   "cell_type": "code",
   "execution_count": 19,
   "metadata": {},
   "outputs": [
    {
     "data": {
      "text/html": [
       "\n",
       "  <div class=\"bk-root\" id=\"87741570-cfcf-4b47-b255-ce4648e0af57\" data-root-id=\"3284\"></div>\n"
      ]
     },
     "metadata": {},
     "output_type": "display_data"
    },
    {
     "data": {
      "application/javascript": "(function(root) {\n  function embed_document(root) {\n  const docs_json = {\"8eeef9a7-44f8-465b-90ff-29e4891ce779\":{\"defs\":[],\"roots\":{\"references\":[{\"attributes\":{\"below\":[{\"id\":\"3293\"}],\"center\":[{\"id\":\"3296\"},{\"id\":\"3300\"}],\"height\":400,\"left\":[{\"id\":\"3297\"}],\"renderers\":[{\"id\":\"3319\"}],\"title\":{\"id\":\"3406\"},\"toolbar\":{\"id\":\"3308\"},\"width\":400,\"x_range\":{\"id\":\"3285\"},\"x_scale\":{\"id\":\"3289\"},\"y_range\":{\"id\":\"3287\"},\"y_scale\":{\"id\":\"3291\"}},\"id\":\"3284\",\"subtype\":\"Figure\",\"type\":\"Plot\"},{\"attributes\":{},\"id\":\"3305\",\"type\":\"ResetTool\"},{\"attributes\":{\"coordinates\":null,\"group\":null},\"id\":\"3406\",\"type\":\"Title\"},{\"attributes\":{},\"id\":\"3409\",\"type\":\"BasicTickFormatter\"},{\"attributes\":{\"axis\":{\"id\":\"3297\"},\"coordinates\":null,\"dimension\":1,\"group\":null,\"ticker\":null},\"id\":\"3300\",\"type\":\"Grid\"},{\"attributes\":{\"source\":{\"id\":\"3315\"}},\"id\":\"3320\",\"type\":\"CDSView\"},{\"attributes\":{},\"id\":\"3298\",\"type\":\"BasicTicker\"},{\"attributes\":{},\"id\":\"3289\",\"type\":\"LinearScale\"},{\"attributes\":{},\"id\":\"3415\",\"type\":\"Selection\"},{\"attributes\":{\"fill_alpha\":{\"value\":0.1},\"fill_color\":{\"value\":\"firebrick\"},\"hatch_alpha\":{\"value\":0.1},\"hatch_color\":{\"value\":\"firebrick\"},\"line_alpha\":{\"value\":0.1},\"line_color\":{\"value\":\"firebrick\"},\"top\":{\"field\":\"top\"},\"width\":{\"value\":0.5},\"x\":{\"field\":\"x\"}},\"id\":\"3317\",\"type\":\"VBar\"},{\"attributes\":{\"axis\":{\"id\":\"3293\"},\"coordinates\":null,\"group\":null,\"ticker\":null},\"id\":\"3296\",\"type\":\"Grid\"},{\"attributes\":{},\"id\":\"3414\",\"type\":\"UnionRenderers\"},{\"attributes\":{},\"id\":\"3306\",\"type\":\"HelpTool\"},{\"attributes\":{\"fill_color\":{\"value\":\"firebrick\"},\"hatch_color\":{\"value\":\"firebrick\"},\"line_color\":{\"value\":\"firebrick\"},\"top\":{\"field\":\"top\"},\"width\":{\"value\":0.5},\"x\":{\"field\":\"x\"}},\"id\":\"3316\",\"type\":\"VBar\"},{\"attributes\":{},\"id\":\"3304\",\"type\":\"SaveTool\"},{\"attributes\":{},\"id\":\"3413\",\"type\":\"AllLabels\"},{\"attributes\":{},\"id\":\"3287\",\"type\":\"DataRange1d\"},{\"attributes\":{\"coordinates\":null,\"formatter\":{\"id\":\"3412\"},\"group\":null,\"major_label_policy\":{\"id\":\"3413\"},\"ticker\":{\"id\":\"3294\"}},\"id\":\"3293\",\"type\":\"LinearAxis\"},{\"attributes\":{},\"id\":\"3294\",\"type\":\"BasicTicker\"},{\"attributes\":{\"coordinates\":null,\"formatter\":{\"id\":\"3409\"},\"group\":null,\"major_label_policy\":{\"id\":\"3410\"},\"ticker\":{\"id\":\"3298\"}},\"id\":\"3297\",\"type\":\"LinearAxis\"},{\"attributes\":{\"tools\":[{\"id\":\"3301\"},{\"id\":\"3302\"},{\"id\":\"3303\"},{\"id\":\"3304\"},{\"id\":\"3305\"},{\"id\":\"3306\"}]},\"id\":\"3308\",\"type\":\"Toolbar\"},{\"attributes\":{},\"id\":\"3410\",\"type\":\"AllLabels\"},{\"attributes\":{},\"id\":\"3302\",\"type\":\"WheelZoomTool\"},{\"attributes\":{\"fill_alpha\":{\"value\":0.2},\"fill_color\":{\"value\":\"firebrick\"},\"hatch_alpha\":{\"value\":0.2},\"hatch_color\":{\"value\":\"firebrick\"},\"line_alpha\":{\"value\":0.2},\"line_color\":{\"value\":\"firebrick\"},\"top\":{\"field\":\"top\"},\"width\":{\"value\":0.5},\"x\":{\"field\":\"x\"}},\"id\":\"3318\",\"type\":\"VBar\"},{\"attributes\":{\"data\":{\"top\":[1.2,2.5,3.7],\"x\":[1,2,3]},\"selected\":{\"id\":\"3415\"},\"selection_policy\":{\"id\":\"3414\"}},\"id\":\"3315\",\"type\":\"ColumnDataSource\"},{\"attributes\":{},\"id\":\"3301\",\"type\":\"PanTool\"},{\"attributes\":{\"overlay\":{\"id\":\"3307\"}},\"id\":\"3303\",\"type\":\"BoxZoomTool\"},{\"attributes\":{},\"id\":\"3412\",\"type\":\"BasicTickFormatter\"},{\"attributes\":{\"coordinates\":null,\"data_source\":{\"id\":\"3315\"},\"glyph\":{\"id\":\"3316\"},\"group\":null,\"hover_glyph\":null,\"muted_glyph\":{\"id\":\"3318\"},\"nonselection_glyph\":{\"id\":\"3317\"},\"view\":{\"id\":\"3320\"}},\"id\":\"3319\",\"type\":\"GlyphRenderer\"},{\"attributes\":{},\"id\":\"3285\",\"type\":\"DataRange1d\"},{\"attributes\":{\"bottom_units\":\"screen\",\"coordinates\":null,\"fill_alpha\":0.5,\"fill_color\":\"lightgrey\",\"group\":null,\"left_units\":\"screen\",\"level\":\"overlay\",\"line_alpha\":1.0,\"line_color\":\"black\",\"line_dash\":[4,4],\"line_width\":2,\"right_units\":\"screen\",\"syncable\":false,\"top_units\":\"screen\"},\"id\":\"3307\",\"type\":\"BoxAnnotation\"},{\"attributes\":{},\"id\":\"3291\",\"type\":\"LinearScale\"}],\"root_ids\":[\"3284\"]},\"title\":\"Bokeh Application\",\"version\":\"2.4.3\"}};\n  const render_items = [{\"docid\":\"8eeef9a7-44f8-465b-90ff-29e4891ce779\",\"root_ids\":[\"3284\"],\"roots\":{\"3284\":\"87741570-cfcf-4b47-b255-ce4648e0af57\"}}];\n  root.Bokeh.embed.embed_items_notebook(docs_json, render_items);\n  }\n  if (root.Bokeh !== undefined) {\n    embed_document(root);\n  } else {\n    let attempts = 0;\n    const timer = setInterval(function(root) {\n      if (root.Bokeh !== undefined) {\n        clearInterval(timer);\n        embed_document(root);\n      } else {\n        attempts++;\n        if (attempts > 100) {\n          clearInterval(timer);\n          console.log(\"Bokeh: ERROR: Unable to run BokehJS code because BokehJS library is missing\");\n        }\n      }\n    }, 10, root)\n  }\n})(window);",
      "application/vnd.bokehjs_exec.v0+json": ""
     },
     "metadata": {
      "application/vnd.bokehjs_exec.v0+json": {
       "id": "3284"
      }
     },
     "output_type": "display_data"
    }
   ],
   "source": [
    "from bokeh.plotting import figure, output_file, show\n",
    "\n",
    "output_file('figura4.html')\n",
    "\n",
    "p = figure(width=400, height=400)\n",
    "p.vbar(x=[1, 2, 3], width=0.5, bottom=0,\n",
    "       top=[1.2, 2.5, 3.7], color=\"firebrick\")\n",
    "\n",
    "show(p)"
   ]
  },
  {
   "cell_type": "code",
   "execution_count": null,
   "metadata": {},
   "outputs": [],
   "source": [
    "from bokeh.plotting import figure, output_file, show\n",
    "\n",
    "output_file('figura5.html')\n",
    "\n",
    "p = figure(width=400, height=400)\n",
    "p.hbar(y=[1, 2, 3], height=0.5, left=0,\n",
    "       right=[1.2, 2.5, 3.7], color=\"navy\")\n",
    "\n",
    "show(p)"
   ]
  },
  {
   "cell_type": "code",
   "execution_count": 20,
   "metadata": {},
   "outputs": [
    {
     "data": {
      "text/html": [
       "\n",
       "  <div class=\"bk-root\" id=\"e6b16c04-bfc7-4821-8025-ac1b2c432778\" data-root-id=\"3627\"></div>\n"
      ]
     },
     "metadata": {},
     "output_type": "display_data"
    },
    {
     "data": {
      "application/javascript": "(function(root) {\n  function embed_document(root) {\n  const docs_json = {\"294ad2cc-e367-4531-802a-7c11addd37b4\":{\"defs\":[],\"roots\":{\"references\":[{\"attributes\":{\"below\":[{\"id\":\"3636\"}],\"center\":[{\"id\":\"3639\"},{\"id\":\"3643\"}],\"height\":400,\"left\":[{\"id\":\"3640\"}],\"renderers\":[{\"id\":\"3662\"},{\"id\":\"3668\"}],\"title\":{\"id\":\"3766\"},\"toolbar\":{\"id\":\"3651\"},\"toolbar_location\":null,\"width\":400,\"x_range\":{\"id\":\"3628\"},\"x_scale\":{\"id\":\"3632\"},\"y_range\":{\"id\":\"3630\"},\"y_scale\":{\"id\":\"3634\"}},\"id\":\"3627\",\"subtype\":\"Figure\",\"type\":\"Plot\"},{\"attributes\":{},\"id\":\"3637\",\"type\":\"BasicTicker\"},{\"attributes\":{\"fill_alpha\":{\"value\":0.5},\"fill_color\":{\"field\":\"fill_color\"},\"hatch_alpha\":{\"value\":0.5},\"line_alpha\":{\"value\":0.5},\"line_color\":{\"value\":\"white\"},\"q\":{\"field\":\"q\"},\"r\":{\"field\":\"r\"}},\"id\":\"3659\",\"type\":\"HexTile\"},{\"attributes\":{\"text_align\":{\"value\":\"center\"},\"text_alpha\":{\"value\":0.1},\"text_baseline\":{\"value\":\"middle\"},\"text_color\":{\"value\":\"black\"},\"x\":{\"field\":\"x\"},\"y\":{\"field\":\"y\"}},\"id\":\"3666\",\"type\":\"Text\"},{\"attributes\":{},\"id\":\"3770\",\"type\":\"AllLabels\"},{\"attributes\":{},\"id\":\"3776\",\"type\":\"UnionRenderers\"},{\"attributes\":{},\"id\":\"3630\",\"type\":\"DataRange1d\"},{\"attributes\":{\"coordinates\":null,\"group\":null},\"id\":\"3766\",\"type\":\"Title\"},{\"attributes\":{\"source\":{\"id\":\"3664\"}},\"id\":\"3669\",\"type\":\"CDSView\"},{\"attributes\":{},\"id\":\"3632\",\"type\":\"LinearScale\"},{\"attributes\":{},\"id\":\"3772\",\"type\":\"BasicTickFormatter\"},{\"attributes\":{\"data\":{\"fill_color\":[\"firebrick\",\"firebrick\",\"firebrick\",\"navy\",\"navy\",\"navy\",\"navy\"],\"q\":{\"__ndarray__\":\"AAAAAAAAAAAAAAAA//////////8BAAAAAQAAAA==\",\"dtype\":\"int32\",\"order\":\"little\",\"shape\":[7]},\"r\":{\"__ndarray__\":\"AAAAAP////8BAAAAAAAAAAEAAAD/////AAAAAA==\",\"dtype\":\"int32\",\"order\":\"little\",\"shape\":[7]}},\"selected\":{\"id\":\"3775\"},\"selection_policy\":{\"id\":\"3774\"}},\"id\":\"3658\",\"type\":\"ColumnDataSource\"},{\"attributes\":{},\"id\":\"3769\",\"type\":\"BasicTickFormatter\"},{\"attributes\":{},\"id\":\"3775\",\"type\":\"Selection\"},{\"attributes\":{\"source\":{\"id\":\"3658\"}},\"id\":\"3663\",\"type\":\"CDSView\"},{\"attributes\":{},\"id\":\"3773\",\"type\":\"AllLabels\"},{\"attributes\":{\"bottom_units\":\"screen\",\"coordinates\":null,\"fill_alpha\":0.5,\"fill_color\":\"lightgrey\",\"group\":null,\"left_units\":\"screen\",\"level\":\"overlay\",\"line_alpha\":1.0,\"line_color\":\"black\",\"line_dash\":[4,4],\"line_width\":2,\"right_units\":\"screen\",\"syncable\":false,\"top_units\":\"screen\"},\"id\":\"3650\",\"type\":\"BoxAnnotation\"},{\"attributes\":{\"coordinates\":null,\"data_source\":{\"id\":\"3658\"},\"glyph\":{\"id\":\"3659\"},\"group\":null,\"hover_glyph\":null,\"muted_glyph\":{\"id\":\"3661\"},\"nonselection_glyph\":{\"id\":\"3660\"},\"view\":{\"id\":\"3663\"}},\"id\":\"3662\",\"type\":\"GlyphRenderer\"},{\"attributes\":{\"coordinates\":null,\"formatter\":{\"id\":\"3772\"},\"group\":null,\"major_label_policy\":{\"id\":\"3773\"},\"ticker\":{\"id\":\"3637\"}},\"id\":\"3636\",\"type\":\"LinearAxis\"},{\"attributes\":{\"text_align\":{\"value\":\"center\"},\"text_baseline\":{\"value\":\"middle\"},\"text_color\":{\"value\":\"black\"},\"x\":{\"field\":\"x\"},\"y\":{\"field\":\"y\"}},\"id\":\"3665\",\"type\":\"Text\"},{\"attributes\":{\"fill_alpha\":{\"value\":0.1},\"fill_color\":{\"field\":\"fill_color\"},\"hatch_alpha\":{\"value\":0.1},\"line_alpha\":{\"value\":0.1},\"line_color\":{\"value\":\"white\"},\"q\":{\"field\":\"q\"},\"r\":{\"field\":\"r\"}},\"id\":\"3660\",\"type\":\"HexTile\"},{\"attributes\":{\"coordinates\":null,\"data_source\":{\"id\":\"3664\"},\"glyph\":{\"id\":\"3665\"},\"group\":null,\"hover_glyph\":null,\"muted_glyph\":{\"id\":\"3667\"},\"nonselection_glyph\":{\"id\":\"3666\"},\"view\":{\"id\":\"3669\"}},\"id\":\"3668\",\"type\":\"GlyphRenderer\"},{\"attributes\":{\"tools\":[{\"id\":\"3644\"},{\"id\":\"3645\"},{\"id\":\"3646\"},{\"id\":\"3647\"},{\"id\":\"3648\"},{\"id\":\"3649\"}]},\"id\":\"3651\",\"type\":\"Toolbar\"},{\"attributes\":{\"text_align\":{\"value\":\"center\"},\"text_alpha\":{\"value\":0.2},\"text_baseline\":{\"value\":\"middle\"},\"text_color\":{\"value\":\"black\"},\"x\":{\"field\":\"x\"},\"y\":{\"field\":\"y\"}},\"id\":\"3667\",\"type\":\"Text\"},{\"attributes\":{\"axis\":{\"id\":\"3640\"},\"coordinates\":null,\"dimension\":1,\"group\":null,\"ticker\":null,\"visible\":false},\"id\":\"3643\",\"type\":\"Grid\"},{\"attributes\":{\"data\":{\"text\":[\"(0, 0)\",\"(0, -1)\",\"(0, 1)\",\"(-1, 0)\",\"(-1, 1)\",\"(1, -1)\",\"(1, 0)\"],\"x\":{\"__ndarray__\":\"AAAAAAAAAACqTFjoerbrv6pMWOh6tus/qkxY6Hq2+7+qTFjoerbrv6pMWOh6tus/qkxY6Hq2+z8=\",\"dtype\":\"float64\",\"order\":\"little\",\"shape\":[7]},\"y\":{\"__ndarray__\":\"AAAAAAAAAIAAAAAAAAD4PwAAAAAAAPi/AAAAAAAAAIAAAAAAAAD4vwAAAAAAAPg/AAAAAAAAAIA=\",\"dtype\":\"float64\",\"order\":\"little\",\"shape\":[7]}},\"selected\":{\"id\":\"3777\"},\"selection_policy\":{\"id\":\"3776\"}},\"id\":\"3664\",\"type\":\"ColumnDataSource\"},{\"attributes\":{},\"id\":\"3641\",\"type\":\"BasicTicker\"},{\"attributes\":{\"fill_alpha\":{\"value\":0.2},\"fill_color\":{\"field\":\"fill_color\"},\"hatch_alpha\":{\"value\":0.2},\"line_alpha\":{\"value\":0.2},\"line_color\":{\"value\":\"white\"},\"q\":{\"field\":\"q\"},\"r\":{\"field\":\"r\"}},\"id\":\"3661\",\"type\":\"HexTile\"},{\"attributes\":{},\"id\":\"3634\",\"type\":\"LinearScale\"},{\"attributes\":{\"coordinates\":null,\"formatter\":{\"id\":\"3769\"},\"group\":null,\"major_label_policy\":{\"id\":\"3770\"},\"ticker\":{\"id\":\"3641\"}},\"id\":\"3640\",\"type\":\"LinearAxis\"},{\"attributes\":{},\"id\":\"3649\",\"type\":\"HelpTool\"},{\"attributes\":{},\"id\":\"3645\",\"type\":\"WheelZoomTool\"},{\"attributes\":{\"axis\":{\"id\":\"3636\"},\"coordinates\":null,\"group\":null,\"ticker\":null,\"visible\":false},\"id\":\"3639\",\"type\":\"Grid\"},{\"attributes\":{},\"id\":\"3644\",\"type\":\"PanTool\"},{\"attributes\":{},\"id\":\"3774\",\"type\":\"UnionRenderers\"},{\"attributes\":{\"overlay\":{\"id\":\"3650\"}},\"id\":\"3646\",\"type\":\"BoxZoomTool\"},{\"attributes\":{},\"id\":\"3647\",\"type\":\"SaveTool\"},{\"attributes\":{},\"id\":\"3777\",\"type\":\"Selection\"},{\"attributes\":{},\"id\":\"3648\",\"type\":\"ResetTool\"},{\"attributes\":{},\"id\":\"3628\",\"type\":\"DataRange1d\"}],\"root_ids\":[\"3627\"]},\"title\":\"Bokeh Application\",\"version\":\"2.4.3\"}};\n  const render_items = [{\"docid\":\"294ad2cc-e367-4531-802a-7c11addd37b4\",\"root_ids\":[\"3627\"],\"roots\":{\"3627\":\"e6b16c04-bfc7-4821-8025-ac1b2c432778\"}}];\n  root.Bokeh.embed.embed_items_notebook(docs_json, render_items);\n  }\n  if (root.Bokeh !== undefined) {\n    embed_document(root);\n  } else {\n    let attempts = 0;\n    const timer = setInterval(function(root) {\n      if (root.Bokeh !== undefined) {\n        clearInterval(timer);\n        embed_document(root);\n      } else {\n        attempts++;\n        if (attempts > 100) {\n          clearInterval(timer);\n          console.log(\"Bokeh: ERROR: Unable to run BokehJS code because BokehJS library is missing\");\n        }\n      }\n    }, 10, root)\n  }\n})(window);",
      "application/vnd.bokehjs_exec.v0+json": ""
     },
     "metadata": {
      "application/vnd.bokehjs_exec.v0+json": {
       "id": "3627"
      }
     },
     "output_type": "display_data"
    }
   ],
   "source": [
    "import numpy as np\n",
    "\n",
    "from bokeh.io import output_file, show\n",
    "from bokeh.plotting import figure\n",
    "from bokeh.util.hex import axial_to_cartesian\n",
    "\n",
    "output_file(\"figurahexagonal.html\")\n",
    "\n",
    "q = np.array([0,  0, 0, -1, -1,  1, 1])\n",
    "r = np.array([0, -1, 1,  0,  1, -1, 0])\n",
    "\n",
    "p = figure(width=400, height=400, toolbar_location=None)\n",
    "p.grid.visible = False\n",
    "\n",
    "p.hex_tile(q, r, size=1, fill_color=[\"firebrick\"]*3 + [\"navy\"]*4,\n",
    "           line_color=\"white\", alpha=0.5)\n",
    "\n",
    "x, y = axial_to_cartesian(q, r, 1, \"pointytop\")\n",
    "\n",
    "p.text(x, y, text=[\"(%d, %d)\" % (q,r) for (q, r) in zip(q, r)],\n",
    "       text_baseline=\"middle\", text_align=\"center\")\n",
    "\n",
    "show(p)"
   ]
  }
 ],
 "metadata": {
  "kernelspec": {
   "display_name": "Python 3.10.7 64-bit",
   "language": "python",
   "name": "python3"
  },
  "language_info": {
   "codemirror_mode": {
    "name": "ipython",
    "version": 3
   },
   "file_extension": ".py",
   "mimetype": "text/x-python",
   "name": "python",
   "nbconvert_exporter": "python",
   "pygments_lexer": "ipython3",
   "version": "3.10.7"
  },
  "orig_nbformat": 4,
  "vscode": {
   "interpreter": {
    "hash": "1eb43a929f44238686194903de167604edebf722adf9b4ee3f15c91488026f27"
   }
  }
 },
 "nbformat": 4,
 "nbformat_minor": 2
}
